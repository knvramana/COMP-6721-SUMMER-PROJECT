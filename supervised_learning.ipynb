{
 "cells": [
  {
   "attachments": {},
   "cell_type": "markdown",
   "metadata": {},
   "source": [
    "# Supervised Learning with Decision Trees"
   ]
  },
  {
   "cell_type": "code",
   "execution_count": 1,
   "metadata": {},
   "outputs": [],
   "source": [
    "import os\n",
    "from PIL import Image\n",
    "import numpy as np \n",
    "\n",
    "#Dataset Directory \n",
    "alphabet_dir = \"ASL_Dataset/Train\"\n",
    "\n",
    "images = []\n",
    "labels = []"
   ]
  },
  {
   "cell_type": "code",
   "execution_count": 2,
   "metadata": {},
   "outputs": [],
   "source": [
    "max_images_per_folder = 100\n",
    "\n",
    "for folder_name in os.listdir(alphabet_dir):\n",
    "    folder_path = os.path.join(alphabet_dir, folder_name)\n",
    "\n",
    "    image_counter = 0\n",
    "\n",
    "    for filename in os.listdir(folder_path):\n",
    "        if filename.endswith(\".jpg\") or filename.endswith(\".png\"):\n",
    "            if image_counter >= max_images_per_folder:\n",
    "                break\n",
    "            image_path = os.path.join(folder_path, filename)\n",
    "            image = Image.open(image_path)\n",
    "\n",
    "            # Resize the image to 256x256 pixels\n",
    "            image = image.resize((256, 256))\n",
    "\n",
    "            image = np.array(image)\n",
    "            images.append(image)\n",
    "            label = folder_name\n",
    "            labels.append(label)\n",
    "            image_counter += 1\n",
    "\n",
    "images = np.array(images)\n",
    "labels = np.array(labels)"
   ]
  },
  {
   "cell_type": "code",
   "execution_count": 3,
   "metadata": {},
   "outputs": [
    {
     "data": {
      "text/plain": [
       "2800"
      ]
     },
     "execution_count": 3,
     "metadata": {},
     "output_type": "execute_result"
    }
   ],
   "source": [
    "len(labels)"
   ]
  },
  {
   "cell_type": "code",
   "execution_count": 4,
   "metadata": {},
   "outputs": [],
   "source": [
    "from sklearn.tree import DecisionTreeClassifier\n",
    "from sklearn.metrics import accuracy_score\n",
    "from sklearn.model_selection import train_test_split"
   ]
  },
  {
   "cell_type": "code",
   "execution_count": 5,
   "metadata": {},
   "outputs": [],
   "source": [
    "X_train, X_rem, y_train, y_rem = train_test_split(images, labels, test_size=0.4, random_state=2411)\n",
    "\n",
    "X_valid, X_test, y_valid, y_test = train_test_split(X_rem, y_rem, test_size=0.5)\n",
    "\n",
    "X_train = X_train.reshape(X_train.shape[0], -1)\n",
    "X_test = X_test.reshape(X_test.shape[0], -1)\n",
    "X_valid = X_valid.reshape(X_valid.shape[0], -1)\n",
    "\n"
   ]
  },
  {
   "cell_type": "code",
   "execution_count": 7,
   "metadata": {},
   "outputs": [
    {
     "name": "stdout",
     "output_type": "stream",
     "text": [
      "The Training Accuracy for max_depth 1 is: 0.07380952380952381\n",
      "The Validation Accuracy for max_depth 1 is: 0.04642857142857143\n",
      "\n",
      "The Training Accuracy for max_depth 2 is: 0.11547619047619048\n",
      "The Validation Accuracy for max_depth 2 is: 0.08214285714285714\n",
      "\n",
      "The Training Accuracy for max_depth 3 is: 0.1767857142857143\n",
      "The Validation Accuracy for max_depth 3 is: 0.12857142857142856\n",
      "\n",
      "The Training Accuracy for max_depth 4 is: 0.25595238095238093\n",
      "The Validation Accuracy for max_depth 4 is: 0.21071428571428572\n",
      "\n",
      "The Training Accuracy for max_depth 5 is: 0.3380952380952381\n",
      "The Validation Accuracy for max_depth 5 is: 0.26071428571428573\n",
      "\n",
      "The Training Accuracy for max_depth 6 is: 0.3904761904761905\n",
      "The Validation Accuracy for max_depth 6 is: 0.2857142857142857\n",
      "\n",
      "The Training Accuracy for max_depth 7 is: 0.46130952380952384\n",
      "The Validation Accuracy for max_depth 7 is: 0.3125\n",
      "\n",
      "The Training Accuracy for max_depth 8 is: 0.5190476190476191\n",
      "The Validation Accuracy for max_depth 8 is: 0.35892857142857143\n",
      "\n",
      "The Training Accuracy for max_depth 9 is: 0.5892857142857143\n",
      "The Validation Accuracy for max_depth 9 is: 0.38035714285714284\n",
      "\n",
      "The Training Accuracy for max_depth 10 is: 0.6595238095238095\n",
      "The Validation Accuracy for max_depth 10 is: 0.4089285714285714\n",
      "\n",
      "The Training Accuracy for max_depth 11 is: 0.7136904761904762\n",
      "The Validation Accuracy for max_depth 11 is: 0.40714285714285714\n",
      "\n",
      "The Training Accuracy for max_depth 12 is: 0.7654761904761904\n",
      "The Validation Accuracy for max_depth 12 is: 0.41964285714285715\n",
      "\n",
      "The Training Accuracy for max_depth 13 is: 0.8089285714285714\n",
      "The Validation Accuracy for max_depth 13 is: 0.40714285714285714\n",
      "\n",
      "The Training Accuracy for max_depth 14 is: 0.8482142857142857\n",
      "The Validation Accuracy for max_depth 14 is: 0.43214285714285716\n",
      "\n",
      "The Training Accuracy for max_depth 15 is: 0.8851190476190476\n",
      "The Validation Accuracy for max_depth 15 is: 0.43214285714285716\n",
      "\n"
     ]
    }
   ],
   "source": [
    "for max_d in range(1,16):\n",
    "    classifier = DecisionTreeClassifier(max_depth=max_d, random_state=2411)\n",
    "\n",
    "    classifier.fit(X_train, y_train)\n",
    "    y_pred = classifier.predict(X_test)\n",
    "\n",
    "    print('The Training Accuracy for max_depth {} is:'.format(max_d), classifier.score(X_train, y_train))\n",
    "    print('The Validation Accuracy for max_depth {} is:'.format(max_d), classifier.score(X_valid, y_valid))\n",
    "    print('')\n"
   ]
  },
  {
   "cell_type": "code",
   "execution_count": 29,
   "metadata": {},
   "outputs": [
    {
     "data": {
      "text/plain": [
       "31"
      ]
     },
     "execution_count": 29,
     "metadata": {},
     "output_type": "execute_result"
    }
   ],
   "source": [
    "classifier.tree_.max_depth"
   ]
  }
 ],
 "metadata": {
  "kernelspec": {
   "display_name": "base",
   "language": "python",
   "name": "python3"
  },
  "language_info": {
   "codemirror_mode": {
    "name": "ipython",
    "version": 3
   },
   "file_extension": ".py",
   "mimetype": "text/x-python",
   "name": "python",
   "nbconvert_exporter": "python",
   "pygments_lexer": "ipython3",
   "version": "3.9.12"
  },
  "orig_nbformat": 4
 },
 "nbformat": 4,
 "nbformat_minor": 2
}
