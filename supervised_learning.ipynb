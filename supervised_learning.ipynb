{
 "cells": [
  {
   "attachments": {},
   "cell_type": "markdown",
   "metadata": {},
   "source": [
    "# Supervised Learning with Decision Trees"
   ]
  },
  {
   "cell_type": "code",
   "execution_count": 33,
   "metadata": {},
   "outputs": [],
   "source": [
    "import os\n",
    "from PIL import Image, ImageFilter\n",
    "import numpy as np \n",
    "import logging\n",
    "\n",
    "alphabet_dir = \"ASL_Dataset/Train\"\n",
    "\n",
    "images = []\n",
    "labels = []\n"
   ]
  },
  {
   "cell_type": "code",
   "execution_count": 14,
   "metadata": {},
   "outputs": [],
   "source": [
    "max_images_per_folder = 500\n",
    "size = (256, 256)\n",
    "def horizontal_flip(image):\n",
    "    flipped_image = image.transpose(Image.FLIP_LEFT_RIGHT)\n",
    "    return flipped_image\n",
    "\n",
    "def remove_noise(image):\n",
    "    pil_image = Image.fromarray(np.uint8(image*255))  \n",
    "    denoised_image = pil_image.filter(ImageFilter.GaussianBlur(radius=2))\n",
    "    denoised_array = np.array(denoised_image) / 255.0  \n",
    "    return denoised_array\n",
    "\n",
    "images = []\n",
    "labels = []\n",
    "\n",
    "for folder_name in os.listdir(alphabet_dir):\n",
    "    folder_path = os.path.join(alphabet_dir, folder_name)\n",
    "\n",
    "    image_counter = 0\n",
    "\n",
    "    for filename in os.listdir(folder_path):\n",
    "        if filename.endswith(\".jpg\") or filename.endswith(\".png\"):\n",
    "            if image_counter >= max_images_per_folder:\n",
    "                break\n",
    "            image_path = os.path.join(folder_path, filename)\n",
    "            image = Image.open(image_path)\n",
    "\n",
    "            image = image.resize(size)\n",
    "\n",
    "            image = image.convert('L')\n",
    "\n",
    "            image = np.array(image) / 255.0\n",
    "\n",
    "            image = remove_noise(image)\n",
    "\n",
    "            images.append(image)\n",
    "            labels.append(folder_name)\n",
    "            image_counter += 1\n",
    "\n",
    "images = np.array(images)\n",
    "labels = np.array(labels)"
   ]
  },
  {
   "cell_type": "code",
   "execution_count": 15,
   "metadata": {},
   "outputs": [
    {
     "data": {
      "text/plain": [
       "14000"
      ]
     },
     "execution_count": 15,
     "metadata": {},
     "output_type": "execute_result"
    }
   ],
   "source": [
    "len(labels)"
   ]
  },
  {
   "attachments": {},
   "cell_type": "markdown",
   "metadata": {},
   "source": [
    "# PCA"
   ]
  },
  {
   "cell_type": "code",
   "execution_count": 16,
   "metadata": {},
   "outputs": [],
   "source": [
    "# Reshape the image data\n",
    "num_images = images.shape[0]\n",
    "flattened_images = images.reshape(num_images, -1)\n",
    "\n",
    "from sklearn.preprocessing import StandardScaler\n",
    "\n",
    "scaler = StandardScaler()\n",
    "standardized_images = scaler.fit_transform(flattened_images)\n",
    "\n",
    "from sklearn.decomposition import PCA\n",
    "\n",
    "num_components = 10  # Number of principal components to keep\n",
    "pca = PCA(n_components=num_components)\n",
    "reduced_images = pca.fit_transform(standardized_images)\n",
    "reconstructed_images = pca.inverse_transform(reduced_images)\n"
   ]
  },
  {
   "cell_type": "code",
   "execution_count": 17,
   "metadata": {},
   "outputs": [
    {
     "name": "stdout",
     "output_type": "stream",
     "text": [
      "(14000, 65536)\n",
      "(14000, 10)\n"
     ]
    }
   ],
   "source": [
    "print(reconstructed_images.shape)\n",
    "print(reduced_images.shape)"
   ]
  },
  {
   "cell_type": "code",
   "execution_count": 18,
   "metadata": {},
   "outputs": [],
   "source": [
    "from sklearn.tree import DecisionTreeClassifier\n",
    "from sklearn.metrics import accuracy_score\n",
    "from sklearn.model_selection import train_test_split"
   ]
  },
  {
   "cell_type": "code",
   "execution_count": 19,
   "metadata": {},
   "outputs": [],
   "source": [
    "X_train, X_rem, y_train, y_rem = train_test_split(reconstructed_images, labels, test_size=0.8, random_state=2411)\n",
    "\n",
    "X_valid, X_test, y_valid, y_test = train_test_split(X_rem, y_rem, test_size=0.5)\n",
    "\n",
    "X_train = X_train.reshape(X_train.shape[0], -1)\n",
    "X_test = X_test.reshape(X_test.shape[0], -1)\n",
    "X_valid = X_valid.reshape(X_valid.shape[0], -1)\n",
    "\n"
   ]
  },
  {
   "cell_type": "code",
   "execution_count": 20,
   "metadata": {},
   "outputs": [
    {
     "name": "stdout",
     "output_type": "stream",
     "text": [
      "Number of CPUs in the system: 16\n"
     ]
    }
   ],
   "source": [
    "import os\n",
    "  \n",
    "n_cpu = os.cpu_count()\n",
    "print(\"Number of CPUs in the system:\", n_cpu)"
   ]
  },
  {
   "attachments": {},
   "cell_type": "markdown",
   "metadata": {},
   "source": [
    "# GPU "
   ]
  },
  {
   "cell_type": "code",
   "execution_count": 21,
   "metadata": {},
   "outputs": [],
   "source": [
    "import cupy as cp"
   ]
  },
  {
   "cell_type": "code",
   "execution_count": 22,
   "metadata": {},
   "outputs": [],
   "source": [
    "from sklearn.preprocessing import LabelEncoder\n",
    "from sklearn.model_selection import train_test_split\n",
    "from sklearn.tree import DecisionTreeClassifier\n",
    "\n",
    "X = reconstructed_images\n",
    "y = labels\n",
    "\n",
    "label_encoder = LabelEncoder()\n",
    "y = label_encoder.fit_transform(y)"
   ]
  },
  {
   "cell_type": "code",
   "execution_count": 23,
   "metadata": {},
   "outputs": [],
   "source": [
    "X_labeled, X_unlabeled, y_labeled, y_unlabeled = train_test_split(X, y, test_size=0.8, stratify=y)\n",
    "X_labeled = X_labeled.reshape(X_labeled.shape[0], -1)\n",
    "X_unlabeled = X_unlabeled.reshape(X_unlabeled.shape[0], -1)"
   ]
  },
  {
   "cell_type": "code",
   "execution_count": 24,
   "metadata": {},
   "outputs": [],
   "source": [
    "X_labeled = cp.asarray(X_labeled)\n",
    "y_labeled = cp.asarray(y_labeled)\n",
    "X_unlabeled = cp.asarray(X_unlabeled)\n",
    "y_unlabeled = cp.asarray(y_unlabeled)"
   ]
  },
  {
   "cell_type": "code",
   "execution_count": 26,
   "metadata": {},
   "outputs": [
    {
     "data": {
      "text/html": [
       "<style>#sk-container-id-1 {color: black;background-color: white;}#sk-container-id-1 pre{padding: 0;}#sk-container-id-1 div.sk-toggleable {background-color: white;}#sk-container-id-1 label.sk-toggleable__label {cursor: pointer;display: block;width: 100%;margin-bottom: 0;padding: 0.3em;box-sizing: border-box;text-align: center;}#sk-container-id-1 label.sk-toggleable__label-arrow:before {content: \"▸\";float: left;margin-right: 0.25em;color: #696969;}#sk-container-id-1 label.sk-toggleable__label-arrow:hover:before {color: black;}#sk-container-id-1 div.sk-estimator:hover label.sk-toggleable__label-arrow:before {color: black;}#sk-container-id-1 div.sk-toggleable__content {max-height: 0;max-width: 0;overflow: hidden;text-align: left;background-color: #f0f8ff;}#sk-container-id-1 div.sk-toggleable__content pre {margin: 0.2em;color: black;border-radius: 0.25em;background-color: #f0f8ff;}#sk-container-id-1 input.sk-toggleable__control:checked~div.sk-toggleable__content {max-height: 200px;max-width: 100%;overflow: auto;}#sk-container-id-1 input.sk-toggleable__control:checked~label.sk-toggleable__label-arrow:before {content: \"▾\";}#sk-container-id-1 div.sk-estimator input.sk-toggleable__control:checked~label.sk-toggleable__label {background-color: #d4ebff;}#sk-container-id-1 div.sk-label input.sk-toggleable__control:checked~label.sk-toggleable__label {background-color: #d4ebff;}#sk-container-id-1 input.sk-hidden--visually {border: 0;clip: rect(1px 1px 1px 1px);clip: rect(1px, 1px, 1px, 1px);height: 1px;margin: -1px;overflow: hidden;padding: 0;position: absolute;width: 1px;}#sk-container-id-1 div.sk-estimator {font-family: monospace;background-color: #f0f8ff;border: 1px dotted black;border-radius: 0.25em;box-sizing: border-box;margin-bottom: 0.5em;}#sk-container-id-1 div.sk-estimator:hover {background-color: #d4ebff;}#sk-container-id-1 div.sk-parallel-item::after {content: \"\";width: 100%;border-bottom: 1px solid gray;flex-grow: 1;}#sk-container-id-1 div.sk-label:hover label.sk-toggleable__label {background-color: #d4ebff;}#sk-container-id-1 div.sk-serial::before {content: \"\";position: absolute;border-left: 1px solid gray;box-sizing: border-box;top: 0;bottom: 0;left: 50%;z-index: 0;}#sk-container-id-1 div.sk-serial {display: flex;flex-direction: column;align-items: center;background-color: white;padding-right: 0.2em;padding-left: 0.2em;position: relative;}#sk-container-id-1 div.sk-item {position: relative;z-index: 1;}#sk-container-id-1 div.sk-parallel {display: flex;align-items: stretch;justify-content: center;background-color: white;position: relative;}#sk-container-id-1 div.sk-item::before, #sk-container-id-1 div.sk-parallel-item::before {content: \"\";position: absolute;border-left: 1px solid gray;box-sizing: border-box;top: 0;bottom: 0;left: 50%;z-index: -1;}#sk-container-id-1 div.sk-parallel-item {display: flex;flex-direction: column;z-index: 1;position: relative;background-color: white;}#sk-container-id-1 div.sk-parallel-item:first-child::after {align-self: flex-end;width: 50%;}#sk-container-id-1 div.sk-parallel-item:last-child::after {align-self: flex-start;width: 50%;}#sk-container-id-1 div.sk-parallel-item:only-child::after {width: 0;}#sk-container-id-1 div.sk-dashed-wrapped {border: 1px dashed gray;margin: 0 0.4em 0.5em 0.4em;box-sizing: border-box;padding-bottom: 0.4em;background-color: white;}#sk-container-id-1 div.sk-label label {font-family: monospace;font-weight: bold;display: inline-block;line-height: 1.2em;}#sk-container-id-1 div.sk-label-container {text-align: center;}#sk-container-id-1 div.sk-container {/* jupyter's `normalize.less` sets `[hidden] { display: none; }` but bootstrap.min.css set `[hidden] { display: none !important; }` so we also need the `!important` here to be able to override the default hidden behavior on the sphinx rendered scikit-learn.org. See: https://github.com/scikit-learn/scikit-learn/issues/21755 */display: inline-block !important;position: relative;}#sk-container-id-1 div.sk-text-repr-fallback {display: none;}</style><div id=\"sk-container-id-1\" class=\"sk-top-container\"><div class=\"sk-text-repr-fallback\"><pre>DecisionTreeClassifier(criterion=&#x27;entropy&#x27;, max_depth=12, random_state=2411)</pre><b>In a Jupyter environment, please rerun this cell to show the HTML representation or trust the notebook. <br />On GitHub, the HTML representation is unable to render, please try loading this page with nbviewer.org.</b></div><div class=\"sk-container\" hidden><div class=\"sk-item\"><div class=\"sk-estimator sk-toggleable\"><input class=\"sk-toggleable__control sk-hidden--visually\" id=\"sk-estimator-id-1\" type=\"checkbox\" checked><label for=\"sk-estimator-id-1\" class=\"sk-toggleable__label sk-toggleable__label-arrow\">DecisionTreeClassifier</label><div class=\"sk-toggleable__content\"><pre>DecisionTreeClassifier(criterion=&#x27;entropy&#x27;, max_depth=12, random_state=2411)</pre></div></div></div></div></div>"
      ],
      "text/plain": [
       "DecisionTreeClassifier(criterion='entropy', max_depth=12, random_state=2411)"
      ]
     },
     "execution_count": 26,
     "metadata": {},
     "output_type": "execute_result"
    }
   ],
   "source": [
    "classifier = DecisionTreeClassifier(max_depth=12, criterion='entropy', random_state=2411)\n",
    "classifier.fit(X_labeled.get(), y_labeled.get())"
   ]
  },
  {
   "cell_type": "code",
   "execution_count": 27,
   "metadata": {},
   "outputs": [
    {
     "name": "stdout",
     "output_type": "stream",
     "text": [
      "Accuracy: 0.9132142857142858\n"
     ]
    }
   ],
   "source": [
    "from sklearn.metrics import accuracy_score, confusion_matrix\n",
    "y_pred = cp.asarray(classifier.predict(X_unlabeled.get()))  # Convert the predictions to cuPy array\n",
    "\n",
    "# Calculate accuracy\n",
    "accuracy = accuracy_score(y_unlabeled.get(), y_pred.get())  # .get() retrieves the underlying numpy arrays\n",
    "print(\"Accuracy:\", accuracy)"
   ]
  },
  {
   "cell_type": "code",
   "execution_count": 28,
   "metadata": {},
   "outputs": [
    {
     "name": "stdout",
     "output_type": "stream",
     "text": [
      "Precision: 0.9145474663736212\n",
      "Recall: 0.9132142857142858\n",
      "F1-score: 0.9131773516390793\n"
     ]
    }
   ],
   "source": [
    "from sklearn.metrics import precision_recall_fscore_support\n",
    "\n",
    "precision, recall, f1_score, _ = precision_recall_fscore_support(y_unlabeled.get(), y_pred.get(), average='weighted')\n",
    "print(\"Precision:\", precision)\n",
    "print(\"Recall:\", recall)\n",
    "print(\"F1-score:\", f1_score)"
   ]
  },
  {
   "cell_type": "code",
   "execution_count": 29,
   "metadata": {},
   "outputs": [
    {
     "name": "stdout",
     "output_type": "stream",
     "text": [
      "Classification Report:\n",
      "              precision    recall  f1-score   support\n",
      "\n",
      "           0       0.91      0.81      0.86       400\n",
      "           1       0.84      0.91      0.87       400\n",
      "           2       0.93      0.98      0.96       400\n",
      "           3       0.96      0.96      0.96       400\n",
      "           4       0.83      0.85      0.84       400\n",
      "           5       0.98      0.91      0.95       400\n",
      "           6       0.91      0.91      0.91       400\n",
      "           7       0.94      0.94      0.94       400\n",
      "           8       0.90      0.90      0.90       400\n",
      "           9       0.90      0.94      0.92       400\n",
      "          10       0.95      0.90      0.93       400\n",
      "          11       0.96      0.98      0.97       400\n",
      "          12       0.95      0.88      0.91       400\n",
      "          13       0.90      0.94      0.92       400\n",
      "          14       1.00      1.00      1.00       400\n",
      "          15       0.88      0.93      0.90       400\n",
      "          16       0.91      0.94      0.93       400\n",
      "          17       0.93      0.98      0.95       400\n",
      "          18       0.83      0.83      0.83       400\n",
      "          19       0.86      0.93      0.89       400\n",
      "          20       1.00      1.00      1.00       400\n",
      "          21       0.91      0.88      0.90       400\n",
      "          22       0.80      0.82      0.81       400\n",
      "          23       0.86      0.87      0.86       400\n",
      "          24       0.94      0.96      0.95       400\n",
      "          25       0.90      0.89      0.90       400\n",
      "          26       0.95      0.88      0.91       400\n",
      "          27       0.98      0.83      0.90       400\n",
      "\n",
      "    accuracy                           0.91     11200\n",
      "   macro avg       0.91      0.91      0.91     11200\n",
      "weighted avg       0.91      0.91      0.91     11200\n",
      "\n"
     ]
    }
   ],
   "source": [
    "from sklearn.metrics import classification_report\n",
    "\n",
    "report = classification_report(y_unlabeled.get(), y_pred.get())\n",
    "print(\"Classification Report:\")\n",
    "print(report)"
   ]
  },
  {
   "cell_type": "code",
   "execution_count": 30,
   "metadata": {},
   "outputs": [],
   "source": [
    "y_test_np = y_unlabeled.get()\n",
    "y_pred_np = y_pred.get()"
   ]
  },
  {
   "cell_type": "code",
   "execution_count": 31,
   "metadata": {},
   "outputs": [
    {
     "name": "stdout",
     "output_type": "stream",
     "text": [
      "Confusion Matrix:\n",
      "[[324  10   7   0  22   0   2   0   0   0   5  12   5   9   0   4   0   0\n",
      "    0   0   0   0   0   0   0   0   0   0]\n",
      " [  3 363   6   1  11   2   3   0   2   0   1   1   0   0   0   3   0   0\n",
      "    4   0   0   0   0   0   0   0   0   0]\n",
      " [  0   1 394   0   0   1   0   0   1   1   0   0   2   0   0   0   0   0\n",
      "    0   0   0   0   0   0   0   0   0   0]\n",
      " [  0   0   0 385   0   0   3   1   0   2   4   0   0   0   0   0   0   3\n",
      "    2   0   0   0   0   0   0   0   0   0]\n",
      " [ 17  19   0   0 342   0   0   0   0   0   6   0   0   3   0  11   0   0\n",
      "    2   0   0   0   0   0   0   0   0   0]\n",
      " [  1   9   6   0   3 365   0   0   1   0   0   0   0   1   0   8   0   0\n",
      "    1   2   0   0   0   3   0   0   0   0]\n",
      " [  0   0   0   0   0   0 365   1   2  12   0   0   0   0   0   0   9   0\n",
      "   10   0   0   0   0   0   0   0   0   1]\n",
      " [  0   0   0   0   0   0   3 376   0   0   0   0   0   0   0   0   8   8\n",
      "    0   0   0   0   0   1   0   0   4   0]\n",
      " [  0   0   0   0   6   0   6   2 360   0   0   0   0   0   0   0   0   0\n",
      "   20   4   0   1   0   0   0   0   0   1]\n",
      " [  0   0   0   1   0   0   2   3   0 376   0   0   0   0   0   0   0  15\n",
      "    0   0   0   0   0   0   0   0   3   0]\n",
      " [  1   7   0   0   7   0   0   0   0   0 361   1   0   0   0  22   0   0\n",
      "    0   1   0   0   0   0   0   0   0   0]\n",
      " [  5   0   1   0   0   0   0   0   0   0   0 394   0   0   0   0   0   0\n",
      "    0   0   0   0   0   0   0   0   0   0]\n",
      " [  0   1   0   0  11   0   0   0   0   0   0   0 352  17   0   5   0   0\n",
      "    0  11   0   3   0   0   0   0   0   0]\n",
      " [  1   0   0   0   7   0   7   0   0   0   0   0   2 376   0   0   0   0\n",
      "    0   5   0   0   0   0   0   0   0   2]\n",
      " [  0   0   0   0   0   0   0   0   0   0   0   0   0   0 400   0   0   0\n",
      "    0   0   0   0   0   0   0   0   0   0]\n",
      " [  5  10   9   0   2   0   0   0   0   0   0   1   0   0   0 371   0   0\n",
      "    0   0   0   0   2   0   0   0   0   0]\n",
      " [  0   0   0   0   0   0   1  14   0   1   0   0   1   7   0   0 375   0\n",
      "    0   0   0   1   0   0   0   0   0   0]\n",
      " [  0   0   0   4   0   0   0   0   0   0   0   0   0   0   0   0   3 392\n",
      "    0   0   0   0   0   1   0   0   0   0]\n",
      " [  0   3   0   0   0   3   2   0   9   1   3   0   0   0   0   0  10   3\n",
      "  333   2   0   7  18   6   0   0   0   0]\n",
      " [  0   0   0   0   0   0   0   0   2   0   0   0   1   1   0   0   0   0\n",
      "    0 370   0   8  10   6   0   1   0   1]\n",
      " [  0   0   0   0   0   0   0   0   0   0   0   0   0   0   0   0   0   0\n",
      "    0   0 400   0   0   0   0   0   0   0]\n",
      " [  0   1   0   0   0   0   0   0   3   1   0   0   8   0   0   0   1   0\n",
      "    2  16   0 353   6   9   0   0   0   0]\n",
      " [  0   0   0   0   0   0   0   0   3   1   0   0   1   0   0   0   0   0\n",
      "   17  14   0   1 330  24   0   5   2   2]\n",
      " [  0   0   0   0   0   0   0   0   0  12   0   0   0   0   0   0   0   1\n",
      "    0   0   0   4  24 347   3   9   0   0]\n",
      " [  0   0   0   0   0   0   0   0   0   0   0   0   0   0   0   0   0   0\n",
      "    0   0   0   0   3   4 383   0  10   0]\n",
      " [  0   0   0   0   0   0   0   0   0   0   0   0   0   0   0   0   0   0\n",
      "    0   5   0   0  22   2  15 355   1   0]\n",
      " [  0   0   0   0   0   0   0   0   0  11   0   0   0   0   0   0   0   0\n",
      "    0   0   0   8   0   0   6  23 352   0]\n",
      " [  0   6   1  12   0   0   8   1  19   0   0   0   0   5   0   0   4   0\n",
      "    8   2   0   0   0   0   0   0   0 334]]\n"
     ]
    }
   ],
   "source": [
    "cm = confusion_matrix(y_test_np, y_pred_np)\n",
    "print(\"Confusion Matrix:\")\n",
    "print(cm)"
   ]
  },
  {
   "cell_type": "code",
   "execution_count": 32,
   "metadata": {},
   "outputs": [
    {
     "data": {
      "image/png": "[encoded data removed]",
      "text/plain": [
       "<Figure size 1200x900 with 2 Axes>"
      ]
     },
     "metadata": {},
     "output_type": "display_data"
    }
   ],
   "source": [
    "import matplotlib.pyplot as plt\n",
    "\n",
    "plt.figure(figsize=(12, 9))\n",
    "plt.imshow(cm, interpolation='nearest', cmap=plt.cm.Blues)\n",
    "plt.title('Confusion Matrix')\n",
    "plt.colorbar()\n",
    "tick_marks = np.arange(len(label_encoder.classes_))\n",
    "plt.xticks(tick_marks, label_encoder.classes_, rotation=90)\n",
    "plt.yticks(tick_marks, label_encoder.classes_)\n",
    "plt.xlabel('Predicted Label')\n",
    "plt.ylabel('True Label')\n",
    "plt.show()"
   ]
  },
  {
   "cell_type": "code",
   "execution_count": null,
   "metadata": {},
   "outputs": [],
   "source": []
  }
 ],
 "metadata": {
  "kernelspec": {
   "display_name": "base",
   "language": "python",
   "name": "python3"
  },
  "language_info": {
   "codemirror_mode": {
    "name": "ipython",
    "version": 3
   },
   "file_extension": ".py",
   "mimetype": "text/x-python",
   "name": "python",
   "nbconvert_exporter": "python",
   "pygments_lexer": "ipython3",
   "version": "3.11.4"
  },
  "orig_nbformat": 4
 },
 "nbformat": 4,
 "nbformat_minor": 2
}
