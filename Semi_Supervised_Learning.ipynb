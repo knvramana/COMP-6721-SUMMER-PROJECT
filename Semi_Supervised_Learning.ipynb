{
 "cells": [
  {
   "cell_type": "code",
   "execution_count": 1,
   "metadata": {},
   "outputs": [],
   "source": [
    "import os\n",
    "from PIL import Image, ImageFilter\n",
    "import numpy as np \n",
    "\n",
    "#Dataset Directory \n",
    "alphabet_dir = \"ASL_Dataset/Train\"\n",
    " \n",
    "images = []\n",
    "labels = []"
   ]
  },
  {
   "cell_type": "code",
   "execution_count": 2,
   "metadata": {},
   "outputs": [],
   "source": [
    "max_images_per_folder = 800\n",
    "size = (256, 256)  \n",
    "def horizontal_flip(image):\n",
    "    flipped_image = image.transpose(Image.FLIP_LEFT_RIGHT)\n",
    "    return flipped_image\n",
    "\n",
    "# Noise removal: Gaussian blur\n",
    "def remove_noise(image):\n",
    "    pil_image = Image.fromarray(np.uint8(image*255))  \n",
    "    denoised_image = pil_image.filter(ImageFilter.GaussianBlur(radius=2))\n",
    "    denoised_array = np.array(denoised_image) / 255.0  \n",
    "    return denoised_array\n",
    "\n",
    "images = []\n",
    "labels = []\n",
    "\n",
    "for folder_name in os.listdir(alphabet_dir):\n",
    "    folder_path = os.path.join(alphabet_dir, folder_name)\n",
    "\n",
    "    image_counter = 0\n",
    "\n",
    "    for filename in os.listdir(folder_path):\n",
    "        if filename.endswith(\".jpg\") or filename.endswith(\".png\"):\n",
    "            if image_counter >= max_images_per_folder:\n",
    "                break\n",
    "            image_path = os.path.join(folder_path, filename)\n",
    "            image = Image.open(image_path)\n",
    "\n",
    "            image = image.resize(size)\n",
    "\n",
    "            image = image.convert('L')\n",
    "\n",
    "            image = np.array(image) / 255.0\n",
    "\n",
    "            image = remove_noise(image)\n",
    "\n",
    "            images.append(image)\n",
    "            labels.append(folder_name)\n",
    "            image_counter += 1\n",
    "\n",
    "images = np.array(images)\n",
    "labels = np.array(labels)"
   ]
  },
  {
   "cell_type": "code",
   "execution_count": 3,
   "metadata": {},
   "outputs": [
    {
     "data": {
      "text/plain": [
       "(22400, 256, 256)"
      ]
     },
     "execution_count": 3,
     "metadata": {},
     "output_type": "execute_result"
    }
   ],
   "source": [
    "images.shape"
   ]
  },
  {
   "attachments": {},
   "cell_type": "markdown",
   "metadata": {},
   "source": [
    "# PCA"
   ]
  },
  {
   "cell_type": "code",
   "execution_count": 4,
   "metadata": {},
   "outputs": [],
   "source": [
    "num_images = images.shape[0]\n",
    "flattened_images = images.reshape(num_images, -1)\n",
    "\n",
    "from sklearn.preprocessing import StandardScaler\n",
    "\n",
    "scaler = StandardScaler()\n",
    "standardized_images = scaler.fit_transform(flattened_images)"
   ]
  },
  {
   "cell_type": "code",
   "execution_count": 5,
   "metadata": {},
   "outputs": [],
   "source": [
    "from sklearn.decomposition import PCA\n",
    "\n",
    "num_components = 10  # Number of principal components to keep\n",
    "pca = PCA(n_components=num_components)\n",
    "reduced_images = pca.fit_transform(standardized_images)\n",
    "reconstructed_images = pca.inverse_transform(reduced_images)"
   ]
  },
  {
   "cell_type": "code",
   "execution_count": 6,
   "metadata": {},
   "outputs": [
    {
     "data": {
      "text/plain": [
       "(22400, 65536)"
      ]
     },
     "execution_count": 6,
     "metadata": {},
     "output_type": "execute_result"
    }
   ],
   "source": [
    "reconstructed_images.shape"
   ]
  },
  {
   "cell_type": "code",
   "execution_count": 7,
   "metadata": {},
   "outputs": [
    {
     "name": "stdout",
     "output_type": "stream",
     "text": [
      "Iteration 1: Labeled Data Size - 22079, Unlabeled Data Size - 17920\n",
      "Iteration 2: Labeled Data Size - 39075, Unlabeled Data Size - 17920\n",
      "Iteration 3: Labeled Data Size - 56267, Unlabeled Data Size - 17920\n",
      "Iteration 4: Labeled Data Size - 73479, Unlabeled Data Size - 17920\n",
      "Iteration 5: Labeled Data Size - 90504, Unlabeled Data Size - 17920\n",
      "Accuracy: 0.88203125\n"
     ]
    }
   ],
   "source": [
    "import cupy as cp\n",
    "from sklearn.preprocessing import LabelEncoder\n",
    "from sklearn.model_selection import train_test_split\n",
    "from sklearn.tree import DecisionTreeClassifier\n",
    "from sklearn.metrics import accuracy_score\n",
    "\n",
    "X = reduced_images\n",
    "y = labels\n",
    "\n",
    "label_encoder = LabelEncoder()\n",
    "y = label_encoder.fit_transform(y)\n",
    "\n",
    "X_labeled, X_unlabeled, y_labeled, y_unlabeled = train_test_split(X, y, test_size=0.8, stratify=y)\n",
    "\n",
    "X_labeled = cp.asarray(X_labeled)\n",
    "y_labeled = cp.asarray(y_labeled)\n",
    "X_unlabeled = cp.asarray(X_unlabeled)\n",
    "y_unlabeled = cp.asarray(y_unlabeled)\n",
    "\n",
    "classifier = DecisionTreeClassifier(max_depth=12, criterion='entropy', random_state=2411)\n",
    "\n",
    "confidence_threshold = 0.9\n",
    "num_iterations = 5\n",
    "\n",
    "for i in range(num_iterations):\n",
    "    classifier.fit(X_labeled.get(), y_labeled.get())\n",
    "    y_pred = cp.asarray(classifier.predict(X_unlabeled.get()))\n",
    "\n",
    "    # Select high-confidence predictions\n",
    "    y_pred_prob = cp.asarray(classifier.predict_proba(X_unlabeled.get()))\n",
    "    max_probs = cp.max(y_pred_prob, axis=1)\n",
    "    high_confidence_indices = cp.where(max_probs >= confidence_threshold)[0]\n",
    "    pseudo_labels = y_pred[high_confidence_indices]\n",
    "\n",
    "    # Add high-confidence examples to the labeled data\n",
    "    X_labeled = cp.concatenate([X_labeled, X_unlabeled[high_confidence_indices]])\n",
    "    y_labeled = cp.concatenate([y_labeled, pseudo_labels])\n",
    "\n",
    "    print(f\"Iteration {i + 1}: Labeled Data Size - {X_labeled.shape[0]}, Unlabeled Data Size - {X_unlabeled.shape[0]}\")\n",
    "\n",
    "y_pred = cp.asarray(classifier.predict(X_unlabeled.get()))\n",
    "accuracy = accuracy_score(y_unlabeled.get(), y_pred.get())\n",
    "print(\"Accuracy:\", accuracy)\n"
   ]
  },
  {
   "cell_type": "code",
   "execution_count": 9,
   "metadata": {},
   "outputs": [
    {
     "name": "stdout",
     "output_type": "stream",
     "text": [
      "Precision: 0.8828152423075395\n",
      "Recall: 0.88203125\n",
      "F1-score: 0.8818948396100289\n"
     ]
    }
   ],
   "source": [
    "from sklearn.metrics import precision_recall_fscore_support\n",
    "\n",
    "precision, recall, f1_score, _ = precision_recall_fscore_support(y_unlabeled.get(), y_pred.get(), average='weighted')\n",
    "print(\"Precision:\", precision)\n",
    "print(\"Recall:\", recall)\n",
    "print(\"F1-score:\", f1_score)"
   ]
  },
  {
   "cell_type": "code",
   "execution_count": 11,
   "metadata": {},
   "outputs": [
    {
     "name": "stdout",
     "output_type": "stream",
     "text": [
      "Classification Report:\n",
      "              precision    recall  f1-score   support\n",
      "\n",
      "           0       0.85      0.81      0.83       640\n",
      "           1       0.91      0.82      0.86       640\n",
      "           2       0.94      0.88      0.91       640\n",
      "           3       0.92      0.93      0.93       640\n",
      "           4       0.84      0.94      0.89       640\n",
      "           5       0.93      0.93      0.93       640\n",
      "           6       0.91      0.89      0.90       640\n",
      "           7       0.89      0.92      0.91       640\n",
      "           8       0.84      0.86      0.85       640\n",
      "           9       0.90      0.88      0.89       640\n",
      "          10       0.89      0.86      0.88       640\n",
      "          11       0.85      0.96      0.90       640\n",
      "          12       0.86      0.89      0.88       640\n",
      "          13       0.84      0.83      0.83       640\n",
      "          14       0.99      0.99      0.99       640\n",
      "          15       0.89      0.85      0.87       640\n",
      "          16       0.94      0.93      0.93       640\n",
      "          17       0.95      0.87      0.91       640\n",
      "          18       0.80      0.81      0.80       640\n",
      "          19       0.87      0.92      0.89       640\n",
      "          20       1.00      0.99      1.00       640\n",
      "          21       0.86      0.88      0.87       640\n",
      "          22       0.75      0.73      0.74       640\n",
      "          23       0.81      0.81      0.81       640\n",
      "          24       0.86      0.85      0.86       640\n",
      "          25       0.82      0.81      0.81       640\n",
      "          26       0.92      0.95      0.93       640\n",
      "          27       0.91      0.91      0.91       640\n",
      "\n",
      "    accuracy                           0.88     17920\n",
      "   macro avg       0.88      0.88      0.88     17920\n",
      "weighted avg       0.88      0.88      0.88     17920\n",
      "\n"
     ]
    }
   ],
   "source": [
    "from sklearn.metrics import classification_report\n",
    "\n",
    "report = classification_report(y_unlabeled.get(), y_pred.get())\n",
    "print(\"Classification Report:\")\n",
    "print(report)"
   ]
  },
  {
   "cell_type": "code",
   "execution_count": 13,
   "metadata": {},
   "outputs": [
    {
     "name": "stdout",
     "output_type": "stream",
     "text": [
      "Balanced Accuracy: 0.88203125\n"
     ]
    }
   ],
   "source": [
    "from sklearn.metrics import balanced_accuracy_score\n",
    "\n",
    "balanced_accuracy = balanced_accuracy_score(y_unlabeled.get(), y_pred.get())\n",
    "print(\"Balanced Accuracy:\", balanced_accuracy)"
   ]
  },
  {
   "cell_type": "code",
   "execution_count": 14,
   "metadata": {},
   "outputs": [],
   "source": [
    "from sklearn.metrics import confusion_matrix\n",
    "\n",
    "y_unlabeled_np = cp.asnumpy(y_unlabeled)\n",
    "y_pred_np = cp.asnumpy(y_pred)\n",
    "\n",
    "# Compute confusion matrix\n",
    "confusion_mat = confusion_matrix(y_unlabeled_np, y_pred_np)\n",
    "# print(\"Confusion Matrix:\")\n",
    "# print(confusion_mat)"
   ]
  },
  {
   "cell_type": "code",
   "execution_count": 15,
   "metadata": {},
   "outputs": [
    {
     "data": {
      "image/png": "[encoded data removed]",
      "text/plain": [
       "<Figure size 600x900 with 2 Axes>"
      ]
     },
     "metadata": {},
     "output_type": "display_data"
    }
   ],
   "source": [
    "import matplotlib.pyplot as plt\n",
    "import numpy as np\n",
    "\n",
    "plt.figure(figsize=(6, 9))\n",
    "plt.imshow(confusion_mat, interpolation='nearest', cmap=plt.cm.Blues)\n",
    "plt.title('Confusion Matrix')\n",
    "plt.colorbar()\n",
    "tick_marks = np.arange(len(label_encoder.classes_))\n",
    "plt.xticks(tick_marks, label_encoder.classes_, rotation=90)\n",
    "plt.yticks(tick_marks, label_encoder.classes_)\n",
    "plt.xlabel('Predicted Label')\n",
    "plt.ylabel('True Label')\n",
    "plt.show()"
   ]
  },
  {
   "cell_type": "code",
   "execution_count": null,
   "metadata": {},
   "outputs": [],
   "source": []
  }
 ],
 "metadata": {
  "kernelspec": {
   "display_name": "COMP6721",
   "language": "python",
   "name": "python3"
  },
  "language_info": {
   "codemirror_mode": {
    "name": "ipython",
    "version": 3
   },
   "file_extension": ".py",
   "mimetype": "text/x-python",
   "name": "python",
   "nbconvert_exporter": "python",
   "pygments_lexer": "ipython3",
   "version": "3.11.4"
  },
  "orig_nbformat": 4
 },
 "nbformat": 4,
 "nbformat_minor": 2
}
