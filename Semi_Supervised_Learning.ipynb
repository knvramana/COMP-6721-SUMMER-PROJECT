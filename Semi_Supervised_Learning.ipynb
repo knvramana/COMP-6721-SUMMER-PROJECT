{
 "cells": [
  {
   "cell_type": "code",
   "execution_count": 2,
   "metadata": {},
   "outputs": [],
   "source": [
    "import os\n",
    "from PIL import Image\n",
    "import numpy as np \n",
    "\n",
    "#Dataset Directory \n",
    "alphabet_dir = \"ASL_Dataset/Train\"\n",
    "\n",
    "images = []\n",
    "labels = []"
   ]
  },
  {
   "cell_type": "code",
   "execution_count": 3,
   "metadata": {},
   "outputs": [],
   "source": [
    "max_images_per_folder = 100\n",
    "\n",
    "for folder_name in os.listdir(alphabet_dir):\n",
    "    folder_path = os.path.join(alphabet_dir, folder_name)\n",
    "\n",
    "    image_counter = 0\n",
    "\n",
    "    for filename in os.listdir(folder_path):\n",
    "        if filename.endswith(\".jpg\") or filename.endswith(\".png\"):\n",
    "            if image_counter >= max_images_per_folder:\n",
    "                break\n",
    "            image_path = os.path.join(folder_path, filename)\n",
    "            image = Image.open(image_path)\n",
    "\n",
    "            # Resize the image to 256x256 pixels\n",
    "            image = image.resize((256, 256))\n",
    "\n",
    "            image = np.array(image)\n",
    "            images.append(image)\n",
    "            label = folder_name\n",
    "            labels.append(label)\n",
    "            image_counter += 1\n",
    "\n",
    "images = np.array(images)\n",
    "labels = np.array(labels)"
   ]
  },
  {
   "cell_type": "code",
   "execution_count": 4,
   "metadata": {},
   "outputs": [
    {
     "data": {
      "text/plain": [
       "2800"
      ]
     },
     "execution_count": 4,
     "metadata": {},
     "output_type": "execute_result"
    }
   ],
   "source": [
    "len(labels)"
   ]
  },
  {
   "cell_type": "code",
   "execution_count": null,
   "metadata": {},
   "outputs": [],
   "source": [
    "from sklearn.model_selection import train_test_split\n",
    "from sklearn.tree import DecisionTreeClassifier\n",
    "from sklearn.model_selection import GridSearchCV\n",
    "\n",
    "import numpy as np\n",
    "\n",
    "X = images\n",
    "y = labels\n",
    "\n",
    "X_labeled, X_unlabeled, y_labeled, _ = train_test_split(X, y, test_size=0.8, stratify=y)\n",
    "\n",
    "X_labeled = X_labeled.reshape(X_labeled.shape[0], -1)\n",
    "X_unlabeled = X_unlabeled.reshape(X_unlabeled.shape[0], -1)\n",
    "\n",
    "params = {'criterion': ['entropy'],\n",
    "                    'max_depth': [8]}\n",
    "grid_search_cv = GridSearchCV(DecisionTreeClassifier(random_state=2411), params, verbose=4, cv=3, n_jobs=-1)\n",
    "grid_search_cv.fit(X_labeled, y_labeled)\n",
    "\n",
    "\n",
    "model = grid_search_cv.best_estimator_\n",
    "pseudo_labels = model.predict(X_unlabeled)\n",
    "\n",
    "confidence_threshold = np.percentile(model.predict_proba(X_unlabeled).max(axis=1), 90)\n",
    "high_confidence_indices = np.where(model.predict_proba(X_unlabeled).max(axis=1) >= confidence_threshold)[0]\n",
    "high_confidence_samples = X_unlabeled[high_confidence_indices]\n",
    "high_confidence_labels = pseudo_labels[high_confidence_indices]\n",
    "\n",
    "X_combined = np.concatenate((X_labeled, high_confidence_samples), axis=0)\n",
    "y_combined = np.concatenate((y_labeled, high_confidence_labels), axis=0)\n",
    "\n",
    "num_iterations = 1\n",
    "for _ in range(num_iterations):\n",
    "    grid_search_cv.fit(X_combined, y_combined)\n",
    "    model = grid_search_cv.best_estimator_\n",
    "    pseudo_labels = model.predict(X_unlabeled)\n",
    "    confidence_threshold = np.percentile(model.predict_proba(X_unlabeled).max(axis=1), 90)\n",
    "    high_confidence_indices = np.where(model.predict_proba(X_unlabeled).max(axis=1) >= confidence_threshold)[0]\n",
    "    high_confidence_samples = X_unlabeled[high_confidence_indices]\n",
    "    high_confidence_labels = pseudo_labels[high_confidence_indices]\n",
    "    X_combined = np.concatenate((X_labeled, high_confidence_samples), axis=0)\n",
    "    y_combined = np.concatenate((y_labeled, high_confidence_labels), axis=0)\n",
    "\n",
    "accuracy = grid_search_cv.best_score_\n",
    "print(f\"Final Model Accuracy: {accuracy}\")\n"
   ]
  },
  {
   "cell_type": "code",
   "execution_count": null,
   "metadata": {},
   "outputs": [],
   "source": []
  }
 ],
 "metadata": {
  "kernelspec": {
   "display_name": "base",
   "language": "python",
   "name": "python3"
  },
  "language_info": {
   "codemirror_mode": {
    "name": "ipython",
    "version": 3
   },
   "file_extension": ".py",
   "mimetype": "text/x-python",
   "name": "python",
   "nbconvert_exporter": "python",
   "pygments_lexer": "ipython3",
   "version": "3.8.12"
  },
  "orig_nbformat": 4
 },
 "nbformat": 4,
 "nbformat_minor": 2
}
